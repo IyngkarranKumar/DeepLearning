{
 "cells": [
  {
   "cell_type": "markdown",
   "id": "61e04b9f-fbea-4b3b-8947-7dee54a8b938",
   "metadata": {
    "tags": []
   },
   "source": [
    "# Introduction\n",
    "Contains notes on study of various optimisation algorithms for training deep neural networks.\n",
    "Not intended as a learning resource."
   ]
  },
  {
   "cell_type": "markdown",
   "id": "81da6a87-ac93-4fa2-b8ec-fc658074a773",
   "metadata": {
    "tags": []
   },
   "source": [
    "## Theory\n",
    "\n",
    "### Some notation:\n",
    "- $\\Theta$: The parameter space of a machine learning model.\n",
    "- $f_{\\theta}(\\cdot)$ - The model to train. Given a feature vector, it predicts a target variable (see below)\n",
    "- $\\mathcal{D}$: A dataset for supervised learning, formally a set of $n$ pairs, $(X_i,y_i)$, where $X_i$ denotes a feature vector (input variable), and $y_i$ is the corresponding target variable.\n",
    "- $\\widehat{y}_i$ - The model prediction given a feature vector, $X_i$.\n",
    "- $L(y_i,\\widehat{y_i})$ - The loss function (essentially a distance function between actual target variable and that predicted by model.\n",
    "- $C$ - The cost function, which measures a model's error over a group of training instances ($C = \\sum_{i} L(y_i,\\widehat{y}_i)$).\n",
    "- $\\nabla_{\\theta_{t}}C$ - The derivative of the cost function w.r.t the model parameters at time step $t$. Vector-valued.\n",
    "\n",
    "**What is an optimiser?** - Our ultimate aim in training a neural network is to find the optimal parameterised function $f_{\\theta}$, for a given task. This is reduces to searching over the parameter space for $\\theta$ for an optimal set of parameters, $\\theta_{opt}$. Given that the parameter space can be millions or billions of dimensions in current neural networks, this search must be performed intelligently. This is the job of our optimisation algorithm. \n",
    "\n",
    "### Vanilla gradient descent (VGD)\n",
    "\n",
    "There are essentially three variants of gradient descent. They are characterised by the number of samples in the training dataset that are used to compute the cost function (which is in turn needed for the gradient vector, and paramater updates). They are as follows:\n",
    "\n",
    "1. **Batch gradient descent**: Uses *all* the training instances in the training dataset to compute the cost function. Whilst this gives the best possible reflection of model performance, it is expensive to implement for large training datasets. \n",
    "2. **Stochastic gradient descent**: The converse of batch gradient descent, stochastic gradient descent uses just *one* training instance to calculate the cost, with this training instance chosen randomly. Whilst cheap to implement, this method leads to very noisy parameter updates (movement over parameter space follows no clear direction over short timescales), due to the inaccuracy rising from modelling model performance across the whole training dataset with its loss on just one training instance.\n",
    "3. **Mini-batch gradient descent**: An attempt at achieving the best of both worlds with regards to batch/stochastic gradient descent. One chooses a batch size, $m$, and the cost is computed as the average over $m$ randomly chosen training instances.\n",
    "\n",
    "<center>\n",
    "    <figure>\n",
    "        <img src='Images/vanilla_grad_descent.png' width=400 alt='missing' />\n",
    "        <figcaption>Src: https://towardsdatascience.com/improving-vanilla-gradient-descent-f9d91031ab1d</figcaption>\n",
    "    </figure>\n",
    "</center>\n",
    "\n",
    "\n",
    "However, the following challenges are present in all versions of vanilla gradient descent:\n",
    "1. **Difficulty in choosing learning rate** - A large learning rate may lead to no convergence, with the optimiser instead just oscillating around some (global/local) minimum. Too small a learning rate runs the risk of getting stuck in local minima, as well as extremely slow convergence (and therefore large training times). \n",
    "2. **Non-adaptive learning rate schedules** - One quick fix to problem (1) is to have the learning rate vary as a function of time, or epoch number. This is known as setting a learning rate schedule. Whilst this sometimes works, the learning rate must be set in advance of the training process, meaning they cannot adapt to the datasets characteristics (for example, it would be desirable to have a learning rate that adapts to the magnitude of the gradient).\n",
    "3.) **Global learning rates** - In the methods given above, one learning rate is applied to all parameters. We would like a learning rate that accounts for this.\n",
    "4.) **Getting stuck in local minima** - For highly non-convex functions, it is likely that variants of gradient descent will get stuck in suboptimal local minima. We would like to develop techniques that encourage convergence toward global minima in parameter space.\n",
    "\n",
    "\n",
    "### Momentum:\n",
    "\n",
    "As hinted above, some directions in parameter space may be considerably steeper than others. This can lead to oscillation without real progress towards local/global minimum when using VGD. The momentum adaptation to gradient descent gives the parameter update some inertia in the direction that it is moving, similar to that which a heavy ball has when rolling down a slope. This is shown in the figure below:\n",
    "\n",
    "<center>\n",
    "    <figure>\n",
    "        <img src='Images/momentum_img.png' width=600 alt='missing' />\n",
    "        <figcaption></figcaption>\n",
    "    </figure>\n",
    "</center>\n",
    "\n",
    "Formally, we can define the weight update for gradient descent with a momentum adaptation as follows:\n",
    "\n",
    "\\begin{align*}\n",
    "\\theta_{t+1} = \\theta_{t} + \\Delta \\theta_{t} \\\\\n",
    "\\Delta\\theta_t = -\\eta \\nabla_{\\theta_t}C + \\alpha \\Delta \\theta_{t-1}\n",
    "\\end{align*}\n",
    "\n",
    "In short, there is an additional term that incorporates the direction of the parameter update from the previous step, giving the current parameter update 'momentum' in this direction. $\\alpha$ is a user defined hyperparameter.\n",
    "\n",
    "\n",
    "### Adaptive Momentum (Adagrad):\n",
    "\n",
    "Adagrad adapts the learning rate to two properties of the training process:\n",
    "1. The scale of the gradient along directions in parameter space.\n",
    "2. The elapsed training time. \n",
    "\n",
    "As a result, rather than a scalar learning rate, we now have a vector learning rate $\\mathbf{\\eta}$. The Adagrad weight update for the $i$th parameter, at time $t$ takes the form:\n",
    "\n",
    "\\begin{align*}\n",
    "\\theta_{t+1,i} = \\theta_{t,i} - \\eta_{t,i} g_{t,i} \\\\\n",
    "g_{t,i} = (\\nabla_{\\theta_{t}}C)_i\n",
    "\\end{align*}\n",
    "\n",
    "$g_{t,i}$ is just the $i$th component of the gradient vector. <br>\n",
    "We need to define two further terms. First, we introduce the diagonal matrix $G_t \\in \\mathbb{R}^{d \\times d}$, where $d$ is the dimension of parameter space. The $i$th nonzero element of $G_t$, $G_{t,ii}$ is the sum of the squares of the gradients in the direction of $\\theta_{i}$ from time $t=1$ up to time step $t$: $G_{t,ii} = \\sum_{j=1}^{t-1}g_{j,i}^{2}$. We can then use this term to scale the learning rate accordingly, yielding:\n",
    "\n",
    "$$\n",
    "\\eta_{t,i} = \\frac{\\eta_0}{\\sqrt{G_{t,ii} + \\epsilon}}\n",
    "$$\n",
    "\n",
    "where $\\epsilon$ is some small positive number to prevent division by zero errors and $\\eta_0$ is a hyperparameter.\n",
    "\n",
    "\n",
    "### RMSProp\n",
    "Observe that the adaptive learning rates of the Adagrad optimiser will converge to $0$ in the limit of long training times. This is because the denominator is simply the square root of the accumulated gradients squared from timestep $1$ to $t$, which is a monotonically increasing function.\n",
    "It is undesirable for the learning rate to tend toward $0$, as this reduces the amount of learning that can be done by the model in the latter stages of training. The RMSprop optimiser looks to solve this by normalising the initial hyperparameter $\\eta$ with the average of the squared gradients *over the past $w$ timesteps only*. This is achieved with an *exponentially weighted average* over the gradients so far.\n",
    "\n",
    "To formalise this, we start with a general form for a decaying, adaptive learning rate (we do this for a single parameter, and thus leave out the parameter subscript $i$ for this example):\n",
    "$$\n",
    "\\eta_t = \\frac{\\eta_0}{\\sqrt{\\alpha_t + \\epsilon}} \n",
    "$$\n",
    "Recall that for Adagrad, $\\alpha_t = \\sum_{j=1}^t g_j^2$, where $g_j$ is the gradient at the $j$ th timestep. <br>\n",
    "For RMSprop, we add a decay factor to give gradients from previous time steps lower weight compared to the most recent gradients. A mathematical statement of this concept is:\n",
    "$$\\alpha_t = \\sum_{j=1}^t \\rho^{t-j} \\cdot g_j^2$$ \n",
    "where $0<\\rho<1$. This allows us to give $\\alpha_t$ a recursive definition, namely $\\alpha_t = \\rho \\alpha_{t-1} + g_t^2$.\n",
    "\n",
    "RMSprop uses a slight variation on the formalisation above, with $\\alpha_t = \\rho \\alpha_{t-1} + (1-\\rho)g_t^2$. The scaling of $g_t^2$ by $(1-\\rho)$ allows the user to give the normalisation factor $\\alpha_t$ a long or short term memory;  $\\rho \\approx 0$ means that the normalisation term is dependent on the most recent gradients, whereas $\\rho \\approx 1$ leads to a learning rate that is influenced by gradients many time steps ago.\n",
    "\n",
    "### AdaDelta\n",
    "\n",
    "### Adam\n",
    "\n",
    "\n",
    "\n",
    "### Sources\n",
    "- https://www.analyticsvidhya.com/blog/2021/10/a-comprehensive-guide-on-deep-learning-optimizers/#:~:text=While%20training%20the%20deep%20learning,loss%20and%20improve%20the%20accuracy.\n",
    "- https://ruder.io/optimizing-gradient-descent/"
   ]
  },
  {
   "cell_type": "markdown",
   "id": "9b7555c2-e105-4ceb-b8b2-cd6ce9d8cc4f",
   "metadata": {},
   "source": [
    "## Experiments\n",
    "Comparing the optimisers above on a simple MNIST image classifier."
   ]
  },
  {
   "cell_type": "code",
   "execution_count": null,
   "id": "cbc473da-5d30-40f3-8b57-5a3c86023a41",
   "metadata": {},
   "outputs": [],
   "source": []
  }
 ],
 "metadata": {
  "kernelspec": {
   "display_name": "Python [conda env:fmenv]",
   "language": "python",
   "name": "conda-env-fmenv-py"
  },
  "language_info": {
   "codemirror_mode": {
    "name": "ipython",
    "version": 3
   },
   "file_extension": ".py",
   "mimetype": "text/x-python",
   "name": "python",
   "nbconvert_exporter": "python",
   "pygments_lexer": "ipython3",
   "version": "3.9.0"
  },
  "vscode": {
   "interpreter": {
    "hash": "31f2aee4e71d21fbe5cf8b01ff0e069b9275f58929596ceb00d14d90e3e16cd6"
   }
  }
 },
 "nbformat": 4,
 "nbformat_minor": 5
}
